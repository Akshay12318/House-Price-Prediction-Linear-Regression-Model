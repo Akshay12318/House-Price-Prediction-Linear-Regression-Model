{
 "cells": [
  {
   "cell_type": "code",
   "execution_count": 2,
   "id": "6d7ddb49-3a46-4988-97c7-bbc801996e10",
   "metadata": {},
   "outputs": [
    {
     "name": "stdout",
     "output_type": "stream",
     "text": [
      "You call sell your house at $269559\n"
     ]
    }
   ],
   "source": [
    "import joblib\n",
    "model=joblib.load('house price pred.pkl')\n",
    "\n",
    "import warnings\n",
    "warnings.filterwarnings(\"ignore\", message=\"X does not have valid feature names\")\n",
    "\n",
    "import numpy as np\n",
    "income=44000\n",
    "house_age=5\n",
    "rooms=3\n",
    "bedrooms=4\n",
    "population=50000\n",
    "user_input=np.array([income,house_age,rooms,bedrooms,population])\n",
    "price_pred=model.predict(user_input.reshape(1,-1))\n",
    "print(f'You call sell your house at ${round(price_pred[0])}')"
   ]
  },
  {
   "cell_type": "code",
   "execution_count": null,
   "id": "da835afd-25de-4187-b04f-575e4a4be559",
   "metadata": {},
   "outputs": [],
   "source": []
  }
 ],
 "metadata": {
  "kernelspec": {
   "display_name": "Python 3 (ipykernel)",
   "language": "python",
   "name": "python3"
  },
  "language_info": {
   "codemirror_mode": {
    "name": "ipython",
    "version": 3
   },
   "file_extension": ".py",
   "mimetype": "text/x-python",
   "name": "python",
   "nbconvert_exporter": "python",
   "pygments_lexer": "ipython3",
   "version": "3.13.5"
  }
 },
 "nbformat": 4,
 "nbformat_minor": 5
}
